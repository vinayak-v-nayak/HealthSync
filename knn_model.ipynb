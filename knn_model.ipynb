{
 "cells": [
  {
   "cell_type": "code",
   "execution_count": 29,
   "metadata": {},
   "outputs": [],
   "source": [
    "import pandas as pd\n",
    "from sklearn.preprocessing import MinMaxScaler\n",
    "from sklearn.neighbors import NearestNeighbors\n",
    "import re\n",
    "import pickle"
   ]
  },
  {
   "cell_type": "code",
   "execution_count": 30,
   "metadata": {},
   "outputs": [],
   "source": [
    "file_path = 'health_insurance_fitness.csv'  # Replace with your file path\n",
    "data = pd.read_csv(file_path)\n"
   ]
  },
  {
   "cell_type": "code",
   "execution_count": 31,
   "metadata": {},
   "outputs": [],
   "source": [
    "def extract_numeric(value):\n",
    "    if isinstance(value, str):\n",
    "        value = re.sub(r'[^\\d.]', '', value)  # Remove non-numeric characters\n",
    "        return float(value) if value else 0.0\n",
    "    return value\n"
   ]
  },
  {
   "cell_type": "code",
   "execution_count": 32,
   "metadata": {},
   "outputs": [],
   "source": [
    "data['Coverage_Amount'] = data['Coverage_Amount'].apply(extract_numeric)\n",
    "data['Monthly_Premium'] = data['Monthly_Premium'].apply(extract_numeric)\n",
    "data['Annual_Premium'] = data['Annual_Premium'].apply(extract_numeric)\n",
    "data['Claim_Settlement_Ratio'] = data['Claim_Settlement_Ratio'].apply(extract_numeric)"
   ]
  },
  {
   "cell_type": "code",
   "execution_count": 33,
   "metadata": {},
   "outputs": [],
   "source": [
    "fitness_columns = ['Fitness_Score1', 'Fitness_Score2', 'Fitness_Score3', 'Fitness Score_4']\n",
    "data['Composite_Fitness_Score'] = data[fitness_columns].mean(axis=1)"
   ]
  },
  {
   "cell_type": "code",
   "execution_count": 34,
   "metadata": {},
   "outputs": [],
   "source": [
    "processed_data = data[['Brand_Name','Policy_Name','Cashless_Hospitals', 'Coverage_Amount', 'Monthly_Premium',\n",
    "                       'Annual_Premium', 'Claim_Settlement_Ratio', 'Composite_Fitness_Score']]\n"
   ]
  },
  {
   "cell_type": "code",
   "execution_count": 35,
   "metadata": {},
   "outputs": [],
   "source": [
    "scaler = MinMaxScaler()\n",
    "normalized_features = scaler.fit_transform(processed_data[['Coverage_Amount', 'Monthly_Premium',\n",
    "                                                           'Annual_Premium', 'Claim_Settlement_Ratio', \n",
    "                                                           'Composite_Fitness_Score']])"
   ]
  },
  {
   "cell_type": "code",
   "execution_count": 36,
   "metadata": {},
   "outputs": [
    {
     "data": {
      "text/html": [
       "<style>#sk-container-id-3 {color: black;background-color: white;}#sk-container-id-3 pre{padding: 0;}#sk-container-id-3 div.sk-toggleable {background-color: white;}#sk-container-id-3 label.sk-toggleable__label {cursor: pointer;display: block;width: 100%;margin-bottom: 0;padding: 0.3em;box-sizing: border-box;text-align: center;}#sk-container-id-3 label.sk-toggleable__label-arrow:before {content: \"▸\";float: left;margin-right: 0.25em;color: #696969;}#sk-container-id-3 label.sk-toggleable__label-arrow:hover:before {color: black;}#sk-container-id-3 div.sk-estimator:hover label.sk-toggleable__label-arrow:before {color: black;}#sk-container-id-3 div.sk-toggleable__content {max-height: 0;max-width: 0;overflow: hidden;text-align: left;background-color: #f0f8ff;}#sk-container-id-3 div.sk-toggleable__content pre {margin: 0.2em;color: black;border-radius: 0.25em;background-color: #f0f8ff;}#sk-container-id-3 input.sk-toggleable__control:checked~div.sk-toggleable__content {max-height: 200px;max-width: 100%;overflow: auto;}#sk-container-id-3 input.sk-toggleable__control:checked~label.sk-toggleable__label-arrow:before {content: \"▾\";}#sk-container-id-3 div.sk-estimator input.sk-toggleable__control:checked~label.sk-toggleable__label {background-color: #d4ebff;}#sk-container-id-3 div.sk-label input.sk-toggleable__control:checked~label.sk-toggleable__label {background-color: #d4ebff;}#sk-container-id-3 input.sk-hidden--visually {border: 0;clip: rect(1px 1px 1px 1px);clip: rect(1px, 1px, 1px, 1px);height: 1px;margin: -1px;overflow: hidden;padding: 0;position: absolute;width: 1px;}#sk-container-id-3 div.sk-estimator {font-family: monospace;background-color: #f0f8ff;border: 1px dotted black;border-radius: 0.25em;box-sizing: border-box;margin-bottom: 0.5em;}#sk-container-id-3 div.sk-estimator:hover {background-color: #d4ebff;}#sk-container-id-3 div.sk-parallel-item::after {content: \"\";width: 100%;border-bottom: 1px solid gray;flex-grow: 1;}#sk-container-id-3 div.sk-label:hover label.sk-toggleable__label {background-color: #d4ebff;}#sk-container-id-3 div.sk-serial::before {content: \"\";position: absolute;border-left: 1px solid gray;box-sizing: border-box;top: 0;bottom: 0;left: 50%;z-index: 0;}#sk-container-id-3 div.sk-serial {display: flex;flex-direction: column;align-items: center;background-color: white;padding-right: 0.2em;padding-left: 0.2em;position: relative;}#sk-container-id-3 div.sk-item {position: relative;z-index: 1;}#sk-container-id-3 div.sk-parallel {display: flex;align-items: stretch;justify-content: center;background-color: white;position: relative;}#sk-container-id-3 div.sk-item::before, #sk-container-id-3 div.sk-parallel-item::before {content: \"\";position: absolute;border-left: 1px solid gray;box-sizing: border-box;top: 0;bottom: 0;left: 50%;z-index: -1;}#sk-container-id-3 div.sk-parallel-item {display: flex;flex-direction: column;z-index: 1;position: relative;background-color: white;}#sk-container-id-3 div.sk-parallel-item:first-child::after {align-self: flex-end;width: 50%;}#sk-container-id-3 div.sk-parallel-item:last-child::after {align-self: flex-start;width: 50%;}#sk-container-id-3 div.sk-parallel-item:only-child::after {width: 0;}#sk-container-id-3 div.sk-dashed-wrapped {border: 1px dashed gray;margin: 0 0.4em 0.5em 0.4em;box-sizing: border-box;padding-bottom: 0.4em;background-color: white;}#sk-container-id-3 div.sk-label label {font-family: monospace;font-weight: bold;display: inline-block;line-height: 1.2em;}#sk-container-id-3 div.sk-label-container {text-align: center;}#sk-container-id-3 div.sk-container {/* jupyter's `normalize.less` sets `[hidden] { display: none; }` but bootstrap.min.css set `[hidden] { display: none !important; }` so we also need the `!important` here to be able to override the default hidden behavior on the sphinx rendered scikit-learn.org. See: https://github.com/scikit-learn/scikit-learn/issues/21755 */display: inline-block !important;position: relative;}#sk-container-id-3 div.sk-text-repr-fallback {display: none;}</style><div id=\"sk-container-id-3\" class=\"sk-top-container\"><div class=\"sk-text-repr-fallback\"><pre>NearestNeighbors(n_neighbors=12)</pre><b>In a Jupyter environment, please rerun this cell to show the HTML representation or trust the notebook. <br />On GitHub, the HTML representation is unable to render, please try loading this page with nbviewer.org.</b></div><div class=\"sk-container\" hidden><div class=\"sk-item\"><div class=\"sk-estimator sk-toggleable\"><input class=\"sk-toggleable__control sk-hidden--visually\" id=\"sk-estimator-id-3\" type=\"checkbox\" checked><label for=\"sk-estimator-id-3\" class=\"sk-toggleable__label sk-toggleable__label-arrow\">NearestNeighbors</label><div class=\"sk-toggleable__content\"><pre>NearestNeighbors(n_neighbors=12)</pre></div></div></div></div></div>"
      ],
      "text/plain": [
       "NearestNeighbors(n_neighbors=12)"
      ]
     },
     "execution_count": 36,
     "metadata": {},
     "output_type": "execute_result"
    }
   ],
   "source": [
    "knn_model = NearestNeighbors(n_neighbors=12, algorithm='auto')\n",
    "knn_model.fit(normalized_features)"
   ]
  },
  {
   "cell_type": "code",
   "execution_count": 37,
   "metadata": {},
   "outputs": [
    {
     "name": "stdout",
     "output_type": "stream",
     "text": [
      "Model and preprocessing objects saved to knn_model.pkl\n"
     ]
    }
   ],
   "source": [
    "with open('knn_model.pkl', 'wb') as file:\n",
    "    pickle.dump({\n",
    "        'model': knn_model,\n",
    "        'scaler': scaler,\n",
    "        'data': processed_data\n",
    "    }, file)\n",
    "print(\"Model and preprocessing objects saved to knn_model.pkl\")"
   ]
  },
  {
   "cell_type": "code",
   "execution_count": 38,
   "metadata": {},
   "outputs": [
    {
     "name": "stdout",
     "output_type": "stream",
     "text": [
      "Model and preprocessing objects loaded successfully.\n"
     ]
    }
   ],
   "source": [
    "with open('knn_model.pkl', 'rb') as file:\n",
    "    saved_objects = pickle.load(file)\n",
    "\n",
    "knn_model = saved_objects['model']\n",
    "scaler = saved_objects['scaler']\n",
    "processed_data = saved_objects['data']\n",
    "\n",
    "print(\"Model and preprocessing objects loaded successfully.\")\n"
   ]
  },
  {
   "cell_type": "code",
   "execution_count": 39,
   "metadata": {},
   "outputs": [],
   "source": [
    "def recommend_policies(fitness_score, model, data, scaler):\n",
    "    # Normalize the input fitness score with dummy data for other features\n",
    "    input_features = [0, 0, 0, 0, fitness_score]\n",
    "    normalized_input = scaler.transform([input_features])[0]\n",
    "    \n",
    "    # Find the nearest neighbors\n",
    "    distances, indices = model.kneighbors([normalized_input])\n",
    "    \n",
    "    # Get the recommended policies\n",
    "    recommendations = data.iloc[indices[0]]\n",
    "    return recommendations[['Brand_Name','Policy_Name','Cashless_Hospitals', 'Coverage_Amount', 'Monthly_Premium', \n",
    "                             'Annual_Premium', 'Claim_Settlement_Ratio']]"
   ]
  },
  {
   "cell_type": "code",
   "execution_count": 40,
   "metadata": {},
   "outputs": [
    {
     "name": "stderr",
     "output_type": "stream",
     "text": [
      "c:\\Users\\nayak\\anaconda3\\Lib\\site-packages\\sklearn\\base.py:439: UserWarning: X does not have valid feature names, but MinMaxScaler was fitted with feature names\n",
      "  warnings.warn(\n"
     ]
    }
   ],
   "source": [
    "fitness_score = 80\n",
    "recommended_policies = recommend_policies(fitness_score, knn_model, processed_data, scaler)"
   ]
  },
  {
   "cell_type": "code",
   "execution_count": 41,
   "metadata": {},
   "outputs": [
    {
     "name": "stdout",
     "output_type": "stream",
     "text": [
      "Recommended Policies:\n",
      "      Brand_Name                    Policy_Name  Cashless_Hospitals  \\\n",
      "138  Star Health    Arogya Sanjivini Individual                  16   \n",
      "212  Star Health              Young Star Silver                  16   \n",
      "77   Star Health  Mediclassic Individual Silver                  16   \n",
      "78   Star Health    Arogya Sanjivini Individual                  16   \n",
      "217  Star Health  Mediclassic Individual Silver                  16   \n",
      "130  Star Health                Young Star Gold                  16   \n",
      "139  Star Health               Smart Health Pro                  16   \n",
      "129  Star Health              Young Star Silver                  16   \n",
      "358  Star Health    Arogya Sanjivini Individual                  16   \n",
      "221  Star Health    Arogya Sanjivini Individual                  16   \n",
      "216  Star Health    Mediclassic Individual Gold                  16   \n",
      "278  Star Health              Young Star Silver                  16   \n",
      "\n",
      "     Coverage_Amount  Monthly_Premium  Annual_Premium  Claim_Settlement_Ratio  \n",
      "138              3.0            442.0          5298.0                    85.8  \n",
      "212              3.0            456.0          5466.0                    85.8  \n",
      "77               1.5            432.0          5189.0                    85.8  \n",
      "78               1.0            382.0          4578.0                    85.8  \n",
      "217              3.0            618.0          7419.0                    85.8  \n",
      "130              3.0            570.0          6839.0                    85.8  \n",
      "139              5.0            618.0          7417.0                    85.8  \n",
      "129              3.0            456.0          5466.0                    85.8  \n",
      "358              7.0            616.0          7393.0                    85.8  \n",
      "221              3.0            442.0          5298.0                    85.8  \n",
      "216              3.0            661.0          7937.0                    85.8  \n",
      "278              5.0            625.0          7497.0                    85.8  \n"
     ]
    }
   ],
   "source": [
    "print(\"Recommended Policies:\")\n",
    "print(recommended_policies)"
   ]
  },
  {
   "cell_type": "code",
   "execution_count": null,
   "metadata": {},
   "outputs": [],
   "source": []
  }
 ],
 "metadata": {
  "kernelspec": {
   "display_name": "base",
   "language": "python",
   "name": "python3"
  },
  "language_info": {
   "codemirror_mode": {
    "name": "ipython",
    "version": 3
   },
   "file_extension": ".py",
   "mimetype": "text/x-python",
   "name": "python",
   "nbconvert_exporter": "python",
   "pygments_lexer": "ipython3",
   "version": "3.11.7"
  }
 },
 "nbformat": 4,
 "nbformat_minor": 2
}
